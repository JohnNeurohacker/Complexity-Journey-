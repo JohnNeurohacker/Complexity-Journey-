{
 "cells": [
  {
   "cell_type": "code",
   "execution_count": 14,
   "id": "af7bfec5-ae46-41d5-bede-add3911ae530",
   "metadata": {
    "scrolled": true
   },
   "outputs": [
    {
     "data": {
      "application/vnd.jupyter.widget-view+json": {
       "model_id": "fd747254dbfe45a0892a24e26de4da55",
       "version_major": 2,
       "version_minor": 0
      },
      "text/plain": [
       "interactive(children=(FloatSlider(value=10.0, description='s', max=20.0, min=0.1), FloatSlider(value=28.0, des…"
      ]
     },
     "metadata": {},
     "output_type": "display_data"
    },
    {
     "data": {
      "text/plain": [
       "<function __main__.plot_lorenz(s=10, r=28, b=2.67)>"
      ]
     },
     "execution_count": 14,
     "metadata": {},
     "output_type": "execute_result"
    }
   ],
   "source": [
    "%matplotlib inline\n",
    "import numpy as np \n",
    "from scipy.integrate import odeint\n",
    "import matplotlib.pyplot as plt\n",
    "from ipywidgets import interact, FloatSlider\n",
    "\n",
    "\n",
    "def lorenz(xyz, t, s=10, r=28, b=2.67):\n",
    "            x, y, z = xyz\n",
    "            dx = s * (y - x)\n",
    "            dy = r* x - y - x * z\n",
    "            dz = x * y- b * z\n",
    "            return [dx, dy, dz]\n",
    "\n",
    "def plot_lorenz(s=10, r=28, b=2.67):\n",
    "    t = np.linspace (0, 50, 10000)\n",
    "    sol = odeint(lorenz, [0.1, 0, 0], t, args=(s, r, b))\n",
    "\n",
    "    fig = plt.figure(figsize=(12, 10))\n",
    "    ax = fig.add_subplot (111, projection= '3d')\n",
    "    ax. plot(sol[:, 0], sol[:, 1], sol[:, 2], lw=0.7)\n",
    "    ax.set_title(f\"Atractor de lorenz (S= {s}, r={r}, b={b})\")\n",
    "    plt.show()\n",
    "\n",
    "interact(plot_lorenz,\n",
    "         s=FloatSlider(min=0.1, max=20, step=0.1, value=10),\n",
    "         r=FloatSlider(min=0, max=50, step=0.5, value=28),\n",
    "         b=FloatSlider(min=0, max=5, step=0.1, value=2.67))\n"
   ]
  },
  {
   "cell_type": "code",
   "execution_count": 24,
   "id": "77e850d5-050e-4d55-9579-c700044ee371",
   "metadata": {
    "scrolled": true
   },
   "outputs": [
    {
     "data": {
      "application/vnd.jupyter.widget-view+json": {
       "model_id": "70b0be79c86f480e9bc36d9b82cbe841",
       "version_major": 2,
       "version_minor": 0
      },
      "text/plain": [
       "interactive(children=(FloatSlider(value=10.0, description='s', max=20.0, min=0.1), FloatSlider(value=28.0, des…"
      ]
     },
     "metadata": {},
     "output_type": "display_data"
    },
    {
     "data": {
      "text/plain": [
       "<function __main__.plot_lorenz(s=10.0, r=28.0, b=2.67)>"
      ]
     },
     "execution_count": 24,
     "metadata": {},
     "output_type": "execute_result"
    }
   ],
   "source": [
    "import numpy as np\n",
    "import matplotlib.pyplot as plt\n",
    "from scipy.integrate import solve_ivp\n",
    "from ipywidgets import interact, FloatSlider\n",
    "from mpl_toolkits.mplot3d import Axes3D\n",
    "\n",
    "\n",
    "def lorenz(t, xyz, s=10, r=28, b=2.67):\n",
    "        x, y, z = xyz\n",
    "        dx_dt = s * (y - x)\n",
    "        dy_dt = x * (r - z) - y\n",
    "        dz_dt = x * y - b * z\n",
    "        return [dx_dt, dy_dt, dz_dt]\n",
    "\n",
    "def plot_lorenz(s=10.0, r=28.0, b=2.67):\n",
    "        y0 = [0., 1., 1.05]\n",
    "        t_span = [0, 50]\n",
    " \n",
    "        sol = solve_ivp(lorenz, t_span, y0,method='RK45', dense_output=True, args=(s, r, b))\n",
    "        t_eval = np.linspace(t_span[0], t_span[1], 10000)\n",
    "        xyz_sol = sol.sol(t_eval)\n",
    "        x, y, z = xyz_sol\n",
    "    \n",
    "        fig = plt.figure(figsize=(12, 9))\n",
    "        ax = fig.add_subplot(111, projection='3d')\n",
    "        ax.plot(x, y, z, lw=0.5)\n",
    "        ax.set_xlabel(\"Eje X\")\n",
    "        ax.set_ylabel(\"Eje Y\")\n",
    "        ax.set_zlabel(\"Eje Z\")\n",
    "        ax.set_title(f\"Atractor de Lorenz (s={s:.2f}, r={r:.2f}, b={b:.2f})\")\n",
    "        plt.show()\n",
    "\n",
    "interact(plot_lorenz,\n",
    "         s=FloatSlider(min=0.1, max=20, step=0.1, value=10),\n",
    "         r=FloatSlider(min=0, max=50, step=0.5, value=28),\n",
    "         b=FloatSlider(min=0, max=5, step=0.1, value=2.67))\n"
   ]
  },
  {
   "cell_type": "code",
   "execution_count": null,
   "id": "e468a152-a90e-448e-9dc0-7b331a3e90be",
   "metadata": {},
   "outputs": [],
   "source": []
  }
 ],
 "metadata": {
  "kernelspec": {
   "display_name": "Python 3 (ipykernel)",
   "language": "python",
   "name": "python3"
  },
  "language_info": {
   "codemirror_mode": {
    "name": "ipython",
    "version": 3
   },
   "file_extension": ".py",
   "mimetype": "text/x-python",
   "name": "python",
   "nbconvert_exporter": "python",
   "pygments_lexer": "ipython3",
   "version": "3.9.23"
  }
 },
 "nbformat": 4,
 "nbformat_minor": 5
}
