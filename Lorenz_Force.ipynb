{
 "cells": [
  {
   "cell_type": "code",
   "execution_count": 14,
   "id": "af7bfec5-ae46-41d5-bede-add3911ae530",
   "metadata": {},
   "outputs": [
    {
     "data": {
      "application/vnd.jupyter.widget-view+json": {
       "model_id": "fd747254dbfe45a0892a24e26de4da55",
       "version_major": 2,
       "version_minor": 0
      },
      "text/plain": [
       "interactive(children=(FloatSlider(value=10.0, description='s', max=20.0, min=0.1), FloatSlider(value=28.0, des…"
      ]
     },
     "metadata": {},
     "output_type": "display_data"
    },
    {
     "data": {
      "text/plain": [
       "<function __main__.plot_lorenz(s=10, r=28, b=2.67)>"
      ]
     },
     "execution_count": 14,
     "metadata": {},
     "output_type": "execute_result"
    }
   ],
   "source": [
    "%matplotlib inline\n",
    "import numpy as np \n",
    "from scipy.integrate import odeint\n",
    "import matplotlib.pyplot as plt\n",
    "from ipywidgets import interact, FloatSlider\n",
    "\n",
    "\n",
    "def lorenz(xyz, t, s=10, r=28, b=2.67):\n",
    "            x, y, z = xyz\n",
    "            dx = s * (y - x)\n",
    "            dy = r* x - y - x * z\n",
    "            dz = x * y- b * z\n",
    "            return [dx, dy, dz]\n",
    "\n",
    "def plot_lorenz(s=10, r=28, b=2.67):\n",
    "    t = np.linspace (0, 50, 10000)\n",
    "    sol = odeint(lorenz, [0.1, 0, 0], t, args=(s, r, b))\n",
    "\n",
    "    fig = plt.figure(figsize=(12, 10))\n",
    "    ax = fig.add_subplot (111, projection= '3d')\n",
    "    ax. plot(sol[:, 0], sol[:, 1], sol[:, 2], lw=0.7)\n",
    "    ax.set_title(f\"Atractor de lorenz (S= {s}, r={r}, b={b})\")\n",
    "    plt.show()\n",
    "\n",
    "interact(plot_lorenz,\n",
    "         s=FloatSlider(min=0.1, max=20, step=0.1, value=10),\n",
    "         r=FloatSlider(min=0, max=50, step=0.5, value=28),\n",
    "         b=FloatSlider(min=0, max=5, step=0.1, value=2.67))\n"
   ]
  },
  {
   "cell_type": "code",
   "execution_count": null,
   "id": "e468a152-a90e-448e-9dc0-7b331a3e90be",
   "metadata": {},
   "outputs": [],
   "source": []
  }
 ],
 "metadata": {
  "kernelspec": {
   "display_name": "Python 3 (ipykernel)",
   "language": "python",
   "name": "python3"
  },
  "language_info": {
   "codemirror_mode": {
    "name": "ipython",
    "version": 3
   },
   "file_extension": ".py",
   "mimetype": "text/x-python",
   "name": "python",
   "nbconvert_exporter": "python",
   "pygments_lexer": "ipython3",
   "version": "3.9.23"
  }
 },
 "nbformat": 4,
 "nbformat_minor": 5
}
